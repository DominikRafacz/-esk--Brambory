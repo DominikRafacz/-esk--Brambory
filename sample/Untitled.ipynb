{
 "cells": [
  {
   "cell_type": "code",
   "execution_count": 3,
   "metadata": {
    "ExecuteTime": {
     "end_time": "2021-01-03T17:39:40.696483Z",
     "start_time": "2021-01-03T17:39:40.685458Z"
    }
   },
   "outputs": [],
   "source": [
    "import pandas as pd\n",
    "import json\n",
    "import os"
   ]
  },
  {
   "cell_type": "code",
   "execution_count": 9,
   "metadata": {
    "ExecuteTime": {
     "end_time": "2021-01-03T17:42:05.389281Z",
     "start_time": "2021-01-03T17:42:05.380183Z"
    }
   },
   "outputs": [
    {
     "data": {
      "text/plain": [
       "['event000001000-truth.csv',\n",
       " 'event000001000-cells.csv',\n",
       " 'event000001000-particles.csv',\n",
       " 'event000001000-hits.csv']"
      ]
     },
     "execution_count": 9,
     "metadata": {},
     "output_type": "execute_result"
    }
   ],
   "source": [
    "list(filter(lambda x: x[:5]==\"event\", os.listdir()))"
   ]
  },
  {
   "cell_type": "code",
   "execution_count": 10,
   "metadata": {
    "ExecuteTime": {
     "end_time": "2021-01-03T17:43:10.595715Z",
     "start_time": "2021-01-03T17:43:10.144849Z"
    }
   },
   "outputs": [],
   "source": [
    "truth = pd.read_csv(\"event000001000-truth.csv\")\n",
    "cells = pd.read_csv(\"event000001000-cells.csv\")\n",
    "particles = pd.read_csv(\"event000001000-particles.csv\")\n",
    "hits = pd.read_csv(\"event000001000-hits.csv\")"
   ]
  },
  {
   "cell_type": "code",
   "execution_count": 14,
   "metadata": {
    "ExecuteTime": {
     "end_time": "2021-01-03T17:46:26.876648Z",
     "start_time": "2021-01-03T17:46:26.859722Z"
    }
   },
   "outputs": [
    {
     "data": {
      "text/plain": [
       "'[{\"hit_id\":1,\"ch0\":209,\"ch1\":617,\"value\":0.0138317},{\"hit_id\":1,\"ch0\":210,\"ch1\":617,\"value\":0.0798866},{\"hit_id\":1,\"ch0\":209,\"ch1\":618,\"value\":0.211723},{\"hit_id\":2,\"ch0\":68,\"ch1\":446,\"value\":0.334087},{\"hit_id\":3,\"ch0\":58,\"ch1\":954,\"value\":0.0340049}]'"
      ]
     },
     "execution_count": 14,
     "metadata": {},
     "output_type": "execute_result"
    }
   ],
   "source": [
    "cells.head().to_json(orient=\"records\")"
   ]
  },
  {
   "cell_type": "code",
   "execution_count": 18,
   "metadata": {
    "ExecuteTime": {
     "end_time": "2021-01-03T17:48:41.853616Z",
     "start_time": "2021-01-03T17:48:41.847374Z"
    }
   },
   "outputs": [
    {
     "data": {
      "text/plain": [
       "(664996, 4)"
      ]
     },
     "execution_count": 18,
     "metadata": {},
     "output_type": "execute_result"
    }
   ],
   "source": [
    "cells.shape"
   ]
  },
  {
   "cell_type": "code",
   "execution_count": 19,
   "metadata": {
    "ExecuteTime": {
     "end_time": "2021-01-03T17:48:49.893322Z",
     "start_time": "2021-01-03T17:48:49.869421Z"
    }
   },
   "outputs": [
    {
     "data": {
      "text/plain": [
       "(120939, 7)"
      ]
     },
     "execution_count": 19,
     "metadata": {},
     "output_type": "execute_result"
    }
   ],
   "source": [
    "hits.shape"
   ]
  },
  {
   "cell_type": "code",
   "execution_count": 20,
   "metadata": {
    "ExecuteTime": {
     "end_time": "2021-01-03T17:48:55.618599Z",
     "start_time": "2021-01-03T17:48:55.612444Z"
    }
   },
   "outputs": [
    {
     "data": {
      "text/plain": [
       "(120939, 9)"
      ]
     },
     "execution_count": 20,
     "metadata": {},
     "output_type": "execute_result"
    }
   ],
   "source": [
    "truth.shape"
   ]
  },
  {
   "cell_type": "code",
   "execution_count": 15,
   "metadata": {
    "ExecuteTime": {
     "end_time": "2021-01-03T17:46:42.772750Z",
     "start_time": "2021-01-03T17:46:42.762764Z"
    }
   },
   "outputs": [
    {
     "data": {
      "text/plain": [
       "'[{\"particle_id\":4503668346847232,\"vx\":-0.00928816,\"vy\":0.00986098,\"vz\":-0.0778789,\"px\":-0.0552689,\"py\":0.323272,\"pz\":-0.203492,\"q\":-1,\"nhits\":8},{\"particle_id\":4503737066323968,\"vx\":-0.00928816,\"vy\":0.00986098,\"vz\":-0.0778789,\"px\":-0.948125,\"py\":0.470892,\"pz\":2.01006,\"q\":1,\"nhits\":11},{\"particle_id\":4503805785800704,\"vx\":-0.00928816,\"vy\":0.00986098,\"vz\":-0.0778789,\"px\":-0.886484,\"py\":0.105749,\"pz\":0.683881,\"q\":-1,\"nhits\":0},{\"particle_id\":4503874505277440,\"vx\":-0.00928816,\"vy\":0.00986098,\"vz\":-0.0778789,\"px\":0.257539,\"py\":-0.676718,\"pz\":0.991616,\"q\":1,\"nhits\":12},{\"particle_id\":4503943224754176,\"vx\":-0.00928816,\"vy\":0.00986098,\"vz\":-0.0778789,\"px\":16.4394,\"py\":-15.5489,\"pz\":-39.8249,\"q\":1,\"nhits\":3}]'"
      ]
     },
     "execution_count": 15,
     "metadata": {},
     "output_type": "execute_result"
    }
   ],
   "source": [
    "particles.head().to_json(orient=\"records\")"
   ]
  },
  {
   "cell_type": "code",
   "execution_count": 13,
   "metadata": {
    "ExecuteTime": {
     "end_time": "2021-01-03T17:46:05.755204Z",
     "start_time": "2021-01-03T17:46:05.748175Z"
    }
   },
   "outputs": [
    {
     "data": {
      "text/plain": [
       "'[{\"hit_id\":1,\"particle_id\":0,\"tx\":-64.4116,\"ty\":-7.16412,\"tz\":-1502.5,\"tpx\":250710.0,\"tpy\":-149908.0,\"tpz\":-956385.0,\"weight\":0.0},{\"hit_id\":2,\"particle_id\":22525763437723648,\"tx\":-55.3385,\"ty\":0.630805,\"tz\":-1502.5,\"tpx\":-0.570605,\"tpy\":0.0283904,\"tpz\":-15.4922,\"weight\":0.0000098641},{\"hit_id\":3,\"particle_id\":0,\"tx\":-83.828,\"ty\":-1.14558,\"tz\":-1502.5,\"tpx\":626295.0,\"tpy\":-169767.0,\"tpz\":-760877.0,\"weight\":0.0},{\"hit_id\":4,\"particle_id\":297237712845406208,\"tx\":-96.1229,\"ty\":-8.23036,\"tz\":-1502.5,\"tpx\":-0.225235,\"tpy\":-0.0509684,\"tpz\":-3.70232,\"weight\":0.0000081331},{\"hit_id\":5,\"particle_id\":418835796137607168,\"tx\":-62.6594,\"ty\":-9.37504,\"tz\":-1502.5,\"tpx\":-0.281806,\"tpy\":-0.023487,\"tpz\":-6.57318,\"weight\":0.0000088734}]'"
      ]
     },
     "execution_count": 13,
     "metadata": {},
     "output_type": "execute_result"
    }
   ],
   "source": [
    "truth.head().to_json(orient=\"records\")"
   ]
  },
  {
   "cell_type": "code",
   "execution_count": 22,
   "metadata": {
    "ExecuteTime": {
     "end_time": "2021-01-03T17:51:20.509177Z",
     "start_time": "2021-01-03T17:51:20.501479Z"
    }
   },
   "outputs": [
    {
     "data": {
      "text/plain": [
       "'[{\"hit_id\":1,\"x\":-64.4099,\"y\":-7.1637,\"z\":-1502.5,\"volume_id\":7,\"layer_id\":2,\"module_id\":1},{\"hit_id\":2,\"x\":-55.3361,\"y\":0.635342,\"z\":-1502.5,\"volume_id\":7,\"layer_id\":2,\"module_id\":1},{\"hit_id\":3,\"x\":-83.8305,\"y\":-1.14301,\"z\":-1502.5,\"volume_id\":7,\"layer_id\":2,\"module_id\":1},{\"hit_id\":4,\"x\":-96.1091,\"y\":-8.24103,\"z\":-1502.5,\"volume_id\":7,\"layer_id\":2,\"module_id\":1},{\"hit_id\":5,\"x\":-62.6736,\"y\":-9.3712,\"z\":-1502.5,\"volume_id\":7,\"layer_id\":2,\"module_id\":1}]'"
      ]
     },
     "execution_count": 22,
     "metadata": {},
     "output_type": "execute_result"
    }
   ],
   "source": [
    "hits.head().to_json(orient=\"records\")"
   ]
  },
  {
   "cell_type": "code",
   "execution_count": 27,
   "metadata": {
    "ExecuteTime": {
     "end_time": "2021-01-03T17:54:27.774849Z",
     "start_time": "2021-01-03T17:54:27.770394Z"
    }
   },
   "outputs": [
    {
     "name": "stdout",
     "output_type": "stream",
     "text": [
      "{\"event_id\":1000,\"partition_id\":0,\"total_messages\":40,\"data\":[{\"hit_id\":1,\"particle_id\":0,\"tx\":-64.4116,\"ty\":-7.16412,\"tz\":-1502.5,\"tpx\":250710.0,\"tpy\":-149908.0,\"tpz\":-956385.0,\"weight\":0.0},{\"hit_id\":2,\"particle_id\":22525763437723648,\"tx\":-55.3385,\"ty\":0.630805,\"tz\":-1502.5,\"tpx\":-0.570605,\"tpy\":0.0283904,\"tpz\":-15.4922,\"weight\":0.0000098641},{\"hit_id\":3,\"particle_id\":0,\"tx\":-83.828,\"ty\":-1.14558,\"tz\":-1502.5,\"tpx\":626295.0,\"tpy\":-169767.0,\"tpz\":-760877.0,\"weight\":0.0},{\"hit_id\":4,\"particle_id\":297237712845406208,\"tx\":-96.1229,\"ty\":-8.23036,\"tz\":-1502.5,\"tpx\":-0.225235,\"tpy\":-0.0509684,\"tpz\":-3.70232,\"weight\":0.0000081331},{\"hit_id\":5,\"particle_id\":418835796137607168,\"tx\":-62.6594,\"ty\":-9.37504,\"tz\":-1502.5,\"tpx\":-0.281806,\"tpy\":-0.023487,\"tpz\":-6.57318,\"weight\":0.0000088734}]}\n"
     ]
    }
   ],
   "source": [
    "print('{\"event_id\":1000,\"partition_id\":0,\"total_messages\":40,\"data\":[{\"hit_id\":1,\"particle_id\":0,\"tx\":-64.4116,\"ty\":-7.16412,\"tz\":-1502.5,\"tpx\":250710.0,\"tpy\":-149908.0,\"tpz\":-956385.0,\"weight\":0.0},{\"hit_id\":2,\"particle_id\":22525763437723648,\"tx\":-55.3385,\"ty\":0.630805,\"tz\":-1502.5,\"tpx\":-0.570605,\"tpy\":0.0283904,\"tpz\":-15.4922,\"weight\":0.0000098641},{\"hit_id\":3,\"particle_id\":0,\"tx\":-83.828,\"ty\":-1.14558,\"tz\":-1502.5,\"tpx\":626295.0,\"tpy\":-169767.0,\"tpz\":-760877.0,\"weight\":0.0},{\"hit_id\":4,\"particle_id\":297237712845406208,\"tx\":-96.1229,\"ty\":-8.23036,\"tz\":-1502.5,\"tpx\":-0.225235,\"tpy\":-0.0509684,\"tpz\":-3.70232,\"weight\":0.0000081331},{\"hit_id\":5,\"particle_id\":418835796137607168,\"tx\":-62.6594,\"ty\":-9.37504,\"tz\":-1502.5,\"tpx\":-0.281806,\"tpy\":-0.023487,\"tpz\":-6.57318,\"weight\":0.0000088734}]}')"
   ]
  },
  {
   "cell_type": "code",
   "execution_count": null,
   "metadata": {},
   "outputs": [],
   "source": []
  }
 ],
 "metadata": {
  "kernelspec": {
   "display_name": "Python 3",
   "language": "python",
   "name": "python3"
  },
  "language_info": {
   "codemirror_mode": {
    "name": "ipython",
    "version": 3
   },
   "file_extension": ".py",
   "mimetype": "text/x-python",
   "name": "python",
   "nbconvert_exporter": "python",
   "pygments_lexer": "ipython3",
   "version": "3.8.6"
  }
 },
 "nbformat": 4,
 "nbformat_minor": 4
}
